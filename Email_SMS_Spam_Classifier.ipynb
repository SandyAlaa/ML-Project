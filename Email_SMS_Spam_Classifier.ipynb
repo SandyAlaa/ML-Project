{
 "cells": [
  {
   "cell_type": "markdown",
   "id": "a2c09cfe-d668-457a-b65a-3b8e3259ca8d",
   "metadata": {},
   "source": [
    "Machine Learning:- Email/SMS Spam Classifier"
   ]
  },
  {
   "cell_type": "markdown",
   "id": "b958108a-4c85-4bcf-8af5-3d93c305fdc5",
   "metadata": {},
   "source": [
    "Checking the data"
   ]
  },
  {
   "cell_type": "code",
   "execution_count": null,
   "id": "a1401646-20f1-48f4-85f5-2dd8f5eee3f2",
   "metadata": {},
   "outputs": [],
   "source": [
    "import pandas as pd\n",
    "import numpy as np"
   ]
  },
  {
   "cell_type": "code",
   "execution_count": null,
   "id": "31b06162-faa4-43b8-9178-9bae02419012",
   "metadata": {},
   "outputs": [],
   "source": [
    "df = pd.read_csv('C:/Users/clt/Downloads/spam.csv', encoding='ISO-8859-1')"
   ]
  },
  {
   "cell_type": "code",
   "execution_count": null,
   "id": "7cad5287-1ece-4b8d-908c-299aa9a3f72e",
   "metadata": {},
   "outputs": [],
   "source": [
    "df.head()"
   ]
  },
  {
   "cell_type": "code",
   "execution_count": null,
   "id": "262c49e3-d60e-4bea-bbca-07adc88d0186",
   "metadata": {},
   "outputs": [],
   "source": [
    "df.shape    #number of rows and columns"
   ]
  },
  {
   "cell_type": "markdown",
   "id": "00196ab1-11db-4b69-8daf-6575f782d760",
   "metadata": {},
   "source": [
    "1- Data Cleaning"
   ]
  },
  {
   "cell_type": "code",
   "execution_count": null,
   "id": "c3dae998-c2cf-47a8-a282-8a3d10d20184",
   "metadata": {},
   "outputs": [],
   "source": [
    "df.info()"
   ]
  },
  {
   "cell_type": "code",
   "execution_count": null,
   "id": "561a4639-04b6-41be-8a4c-80ffb4af162b",
   "metadata": {},
   "outputs": [],
   "source": [
    "df.drop(['Unnamed: 2', 'Unnamed: 3', 'Unnamed: 4'], axis=1, inplace=True)"
   ]
  },
  {
   "cell_type": "code",
   "execution_count": null,
   "id": "9dc6d67b-9549-4195-92cd-43c665c47ce4",
   "metadata": {},
   "outputs": [],
   "source": [
    "df.head()"
   ]
  },
  {
   "cell_type": "code",
   "execution_count": null,
   "id": "af2b8d59-ab05-45fb-ab0c-1f108507f602",
   "metadata": {},
   "outputs": [],
   "source": [
    "df.rename(columns={'v1':'target', 'v2':'text'}, inplace=True)\n",
    "df.head()"
   ]
  },
  {
   "cell_type": "code",
   "execution_count": null,
   "id": "a56c3edf-80a2-435a-9685-2d5ee7fa3edd",
   "metadata": {},
   "outputs": [],
   "source": [
    "from sklearn.preprocessing import LabelEncoder\n",
    "encoder = LabelEncoder()"
   ]
  },
  {
   "cell_type": "code",
   "execution_count": null,
   "id": "3081d21d-e447-4d56-8add-5710225db713",
   "metadata": {},
   "outputs": [],
   "source": [
    "df['target'] = encoder.fit_transform(df['target'])"
   ]
  },
  {
   "cell_type": "code",
   "execution_count": null,
   "id": "9e45d2f0-c5a9-4330-b13c-d93cf94a6dbb",
   "metadata": {},
   "outputs": [],
   "source": [
    "df.head()"
   ]
  },
  {
   "cell_type": "code",
   "execution_count": null,
   "id": "8d6e6551-362b-47f1-9c94-0c6791c1d68f",
   "metadata": {},
   "outputs": [],
   "source": [
    "df.isnull().sum()"
   ]
  },
  {
   "cell_type": "code",
   "execution_count": null,
   "id": "77296d4a-c8ee-4b00-ab1b-3d1d7375135d",
   "metadata": {},
   "outputs": [],
   "source": [
    "df.duplicated().sum()"
   ]
  },
  {
   "cell_type": "code",
   "execution_count": null,
   "id": "9daa9d44-ce82-4782-8d38-953a4a326d0e",
   "metadata": {},
   "outputs": [],
   "source": [
    "df.drop_duplicates(inplace=True)"
   ]
  },
  {
   "cell_type": "code",
   "execution_count": null,
   "id": "c34fbaf0-2b27-4e64-bd1e-3a83bf238c62",
   "metadata": {},
   "outputs": [],
   "source": [
    "df.shape"
   ]
  },
  {
   "cell_type": "markdown",
   "id": "31980f80-5137-4ec9-8700-fef53f2eac03",
   "metadata": {},
   "source": [
    "2- EDA(Exploratory Data Analysis)"
   ]
  },
  {
   "cell_type": "code",
   "execution_count": null,
   "id": "3f6774a0-6003-4028-be99-401b2fc33a95",
   "metadata": {},
   "outputs": [],
   "source": [
    "df['target'].value_counts()"
   ]
  },
  {
   "cell_type": "code",
   "execution_count": null,
   "id": "ea688b63-25cc-408b-bb4b-46a3390d54f8",
   "metadata": {},
   "outputs": [],
   "source": [
    "import matplotlib.pyplot as plt\n",
    "plt.pie(df['target'].value_counts(), labels=['ham', 'spam'], autopct=\"%0.2f\")\n",
    "plt.show()"
   ]
  },
  {
   "cell_type": "code",
   "execution_count": null,
   "id": "0bde79f3-adb6-445a-a457-f3fb39923fbf",
   "metadata": {},
   "outputs": [],
   "source": [
    "import nltk"
   ]
  },
  {
   "cell_type": "code",
   "execution_count": null,
   "id": "05922416-62ae-42b5-a2ca-cc4cce6396cb",
   "metadata": {},
   "outputs": [],
   "source": [
    "nltk.download('punkt')"
   ]
  },
  {
   "cell_type": "code",
   "execution_count": null,
   "id": "585336e8-5bd6-4f01-8484-e386fa2ac03f",
   "metadata": {},
   "outputs": [],
   "source": [
    "df['num_characters'] = df['text'].apply(len)\n",
    "df.head()"
   ]
  },
  {
   "cell_type": "code",
   "execution_count": null,
   "id": "7f073841-f4e0-4c95-ad60-d59f0197f773",
   "metadata": {},
   "outputs": [],
   "source": [
    "df['num_words'] = df['text'].apply(lambda x:len(nltk.word_tokenize(x)))\n",
    "df.head()"
   ]
  },
  {
   "cell_type": "code",
   "execution_count": null,
   "id": "7148137c-e6c9-473d-bfe8-35db22877a71",
   "metadata": {},
   "outputs": [],
   "source": [
    "df['num_sentences'] = df['text'].apply(lambda x:len(nltk.sent_tokenize(x)))\n",
    "df.head()"
   ]
  },
  {
   "cell_type": "code",
   "execution_count": null,
   "id": "8d69f847-0dfb-4a54-8627-70e9a6b78576",
   "metadata": {},
   "outputs": [],
   "source": [
    "df[['num_characters', 'num_words', 'num_sentences']].describe()"
   ]
  },
  {
   "cell_type": "code",
   "execution_count": null,
   "id": "5d2b3aa4-a415-4c72-92fc-426f732fe695",
   "metadata": {},
   "outputs": [],
   "source": [
    "df[df['target'] == 0][['num_characters', 'num_words', 'num_sentences']].describe() #ham"
   ]
  },
  {
   "cell_type": "code",
   "execution_count": null,
   "id": "3251f166-7f07-4f81-8dc8-1efe214b4ccf",
   "metadata": {},
   "outputs": [],
   "source": [
    "df[df['target'] == 1][['num_characters', 'num_words', 'num_sentences']].describe() #spam"
   ]
  },
  {
   "cell_type": "code",
   "execution_count": null,
   "id": "72e45221-073c-4ba4-a1e5-bacdcd201d30",
   "metadata": {},
   "outputs": [],
   "source": [
    "import seaborn as sns\n",
    "plt.figure(figsize=(12,6))\n",
    "sns.histplot(df[df['target'] == 0]['num_characters'])\n",
    "sns.histplot(df[df['target'] == 1]['num_characters'], color='red')"
   ]
  },
  {
   "cell_type": "code",
   "execution_count": null,
   "id": "29cd90c2-df16-47de-9515-a1581b7d74e6",
   "metadata": {},
   "outputs": [],
   "source": [
    "plt.figure(figsize=(12,6))\n",
    "sns.histplot(df[df['target'] == 0]['num_words'])\n",
    "sns.histplot(df[df['target'] == 1]['num_words'], color='red')"
   ]
  },
  {
   "cell_type": "code",
   "execution_count": null,
   "id": "d157cf32-79f0-4e30-bfd1-0ac5d1b62098",
   "metadata": {},
   "outputs": [],
   "source": [
    "sns.pairplot(df, hue='target')"
   ]
  },
  {
   "cell_type": "code",
   "execution_count": null,
   "id": "daa656e2-9d89-4716-85bc-cf30577ec906",
   "metadata": {},
   "outputs": [],
   "source": [
    "sns.heatmap(df.corr(numeric_only=True), annot=True)"
   ]
  },
  {
   "cell_type": "markdown",
   "id": "19e04c40-2c52-43da-a812-833241225452",
   "metadata": {},
   "source": [
    "3- Data Preprocessing"
   ]
  },
  {
   "cell_type": "code",
   "execution_count": null,
   "id": "998b4be7-23b4-49a4-9331-713647bbd174",
   "metadata": {},
   "outputs": [],
   "source": [
    "from nltk.corpus import stopwords\n",
    "nltk.download('stopwords')\n",
    "stopwords.words('english')"
   ]
  },
  {
   "cell_type": "code",
   "execution_count": null,
   "id": "e8a389ac-cca6-4598-9d62-1788b837094a",
   "metadata": {},
   "outputs": [],
   "source": [
    "import string\n",
    "string.punctuation"
   ]
  },
  {
   "cell_type": "code",
   "execution_count": null,
   "id": "2837b7da-dc9e-4930-905d-45ec6e86a514",
   "metadata": {},
   "outputs": [],
   "source": [
    "from nltk.stem.porter import PorterStemmer\n",
    "ps = PorterStemmer()"
   ]
  },
  {
   "cell_type": "code",
   "execution_count": null,
   "id": "866e7ca2-d2b7-459e-8580-24a30724822b",
   "metadata": {},
   "outputs": [],
   "source": [
    "# lower case and tokenization\n",
    "def transform_text(text):\n",
    "  text = text.lower()\n",
    "  text = nltk.word_tokenize(text)\n",
    "\n",
    "  y = []\n",
    "  for i in text:         # to remove special characters\n",
    "    if i.isalnum():\n",
    "      y.append(i)\n",
    "\n",
    "  text = y[:]\n",
    "  y.clear()\n",
    "\n",
    "  for i in text:\n",
    "    if i not in stopwords.words('english') and i not in string.punctuation:\n",
    "      y.append(i)\n",
    "\n",
    "  text = y[:]\n",
    "  y.clear()\n",
    "\n",
    "  for i in text:\n",
    "    y.append(ps.stem(i))\n",
    "\n",
    "  return \" \".join(y)\n",
    "transform_text('Go until jurong point, crazy.. Available only in bugis n great world la e buffet... Cine there got amore wat...')"
   ]
  },
  {
   "cell_type": "code",
   "execution_count": null,
   "id": "3c0b8108-bf37-42ee-a720-eceac94cc18e",
   "metadata": {},
   "outputs": [],
   "source": [
    "df['transformed_text'] = df['text'].apply(transform_text)\n",
    "df.head()"
   ]
  },
  {
   "cell_type": "code",
   "execution_count": null,
   "id": "72b2554e-4de4-4ea7-810b-cfac2007eddc",
   "metadata": {},
   "outputs": [],
   "source": [
    "from wordcloud import WordCloud\n",
    "wc = WordCloud(width=500, height=500, min_font_size=10, background_color='white')\n",
    "spam_wc = wc.generate(df[df['target'] == 1]['transformed_text'].str.cat(sep=\" \"))\n",
    "ham_wc = wc.generate(df[df['target'] == 0]['transformed_text'].str.cat(sep=\" \"))"
   ]
  },
  {
   "cell_type": "code",
   "execution_count": null,
   "id": "3b9db18f-7c98-4f1c-87ed-a7ad9f25902d",
   "metadata": {},
   "outputs": [],
   "source": [
    "plt.figure(figsize=(15,6))\n",
    "plt.imshow(spam_wc)"
   ]
  },
  {
   "cell_type": "code",
   "execution_count": null,
   "id": "f6d5d0ea-3204-4cdb-89b1-d07c5fb6e54a",
   "metadata": {},
   "outputs": [],
   "source": [
    "plt.figure(figsize=(15,6))\n",
    "plt.imshow(ham_wc)"
   ]
  },
  {
   "cell_type": "code",
   "execution_count": null,
   "id": "233de2f4-00a4-43c7-8434-1e0190b87935",
   "metadata": {},
   "outputs": [],
   "source": [
    "spam_corpus = []\n",
    "for msg in df[df['target'] == 1]['transformed_text'].tolist():\n",
    "  for word in msg.split():\n",
    "    spam_corpus.append(word)"
   ]
  },
  {
   "cell_type": "code",
   "execution_count": null,
   "id": "e4cfc341-1cf1-4a6b-a9e4-301de6153e21",
   "metadata": {},
   "outputs": [],
   "source": [
    "len(spam_corpus)"
   ]
  },
  {
   "cell_type": "code",
   "execution_count": null,
   "id": "a523283c-8e8e-43c3-b2c2-e8c74d3bff67",
   "metadata": {},
   "outputs": [],
   "source": [
    "from collections import Counter\n",
    "word_counts = pd.DataFrame(Counter(spam_corpus).most_common(30), columns=['word', 'count'])\n",
    "sns.barplot(x='word', y='count', data=word_counts)\n",
    "plt.xticks(rotation='vertical')\n",
    "plt.show()"
   ]
  },
  {
   "cell_type": "code",
   "execution_count": null,
   "id": "9b204159-bac3-4cba-a593-70c2fd802d9e",
   "metadata": {},
   "outputs": [],
   "source": [
    "ham_corpus = []\n",
    "for msg in df[df['target'] == 0]['transformed_text'].tolist():\n",
    "  for word in msg.split():\n",
    "    ham_corpus.append(word)"
   ]
  },
  {
   "cell_type": "code",
   "execution_count": null,
   "id": "c3288c13-6475-414d-9f51-83f9397f4ef2",
   "metadata": {},
   "outputs": [],
   "source": [
    "len(ham_corpus)"
   ]
  },
  {
   "cell_type": "code",
   "execution_count": null,
   "id": "f70c111f-d993-4cd7-b38a-95c7edd09ca0",
   "metadata": {},
   "outputs": [],
   "source": [
    "word_counts = pd.DataFrame(Counter(ham_corpus).most_common(30), columns=['word', 'count'])\n",
    "sns.barplot(x='word', y='count', data=word_counts)\n",
    "plt.xticks(rotation='vertical')\n",
    "plt.show()"
   ]
  },
  {
   "cell_type": "markdown",
   "id": "d5278678-dcca-41fa-90f6-51bb4cb3f7f4",
   "metadata": {},
   "source": [
    "4- Model Building"
   ]
  },
  {
   "cell_type": "code",
   "execution_count": null,
   "id": "1a1ef8a9-35b9-4435-a9d2-0788b98a491b",
   "metadata": {},
   "outputs": [],
   "source": [
    "from sklearn.feature_extraction.text import CountVectorizer, TfidfVectorizer\n",
    "cv = CountVectorizer()\n",
    "tfidf = TfidfVectorizer(max_features=3000)"
   ]
  },
  {
   "cell_type": "code",
   "execution_count": null,
   "id": "57937e1c-6fe4-445b-87a4-5e2572b4fba0",
   "metadata": {},
   "outputs": [],
   "source": [
    "X = tfidf.fit_transform(df['transformed_text']).toarray()"
   ]
  },
  {
   "cell_type": "code",
   "execution_count": null,
   "id": "fdf95a55-b831-480a-b9ec-74dc92735ebb",
   "metadata": {},
   "outputs": [],
   "source": [
    "'''from sklearn.preprocessing import MinMaxScaler\n",
    "scaler = MinMaxScaler()\n",
    "X = scaler.fit_transform(X)'''"
   ]
  },
  {
   "cell_type": "code",
   "execution_count": null,
   "id": "fce153de-fe61-4ada-8e73-f7b30b6e0d02",
   "metadata": {},
   "outputs": [],
   "source": [
    "# appending the num_character col to X\n",
    "X = np.hstack((X, df['num_characters'].values.reshape(-1,1)))\n",
    "X.shape"
   ]
  },
  {
   "cell_type": "code",
   "execution_count": null,
   "id": "60d02cb0-3f6d-41e3-8290-ad1d1ef01ba0",
   "metadata": {},
   "outputs": [],
   "source": [
    "y = df['target'].values\n",
    "print(y)"
   ]
  },
  {
   "cell_type": "code",
   "execution_count": null,
   "id": "3c7d9aa8-c1c2-4e38-9958-8c7cb6fce7f9",
   "metadata": {},
   "outputs": [],
   "source": [
    "from sklearn.model_selection import train_test_split\n",
    "X_train, X_test, y_train, y_test = train_test_split(X, y, test_size=0.2, random_state=2)"
   ]
  },
  {
   "cell_type": "code",
   "execution_count": null,
   "id": "bdf56ef7-b874-4da9-94fe-14d534706d51",
   "metadata": {},
   "outputs": [],
   "source": [
    "from sklearn.naive_bayes import GaussianNB, MultinomialNB, BernoulliNB\n",
    "from sklearn.metrics import accuracy_score, confusion_matrix, precision_score\n",
    "gnb = GaussianNB()\n",
    "mnb = MultinomialNB()\n",
    "bnb = BernoulliNB()"
   ]
  },
  {
   "cell_type": "code",
   "execution_count": null,
   "id": "8f616277-c58f-4504-912c-515710407164",
   "metadata": {},
   "outputs": [],
   "source": [
    "gnb.fit(X_train, y_train)\n",
    "y_pred1 = gnb.predict(X_test)\n",
    "print(accuracy_score(y_test, y_pred1))\n",
    "print(confusion_matrix(y_test, y_pred1))\n",
    "print(precision_score(y_test, y_pred1))"
   ]
  },
  {
   "cell_type": "code",
   "execution_count": null,
   "id": "da2faaa8-a027-40db-bc41-f0777631f57b",
   "metadata": {},
   "outputs": [],
   "source": [
    "mnb.fit(X_train, y_train)\n",
    "y_pred2 = mnb.predict(X_test)\n",
    "print(accuracy_score(y_test, y_pred2))\n",
    "print(confusion_matrix(y_test, y_pred2))\n",
    "print(precision_score(y_test, y_pred2))"
   ]
  },
  {
   "cell_type": "code",
   "execution_count": null,
   "id": "f3a2067c-96bb-4490-a4b8-4119a4573f24",
   "metadata": {},
   "outputs": [],
   "source": [
    "bnb.fit(X_train, y_train)\n",
    "y_pred3 = bnb.predict(X_test)\n",
    "print(accuracy_score(y_test, y_pred3))\n",
    "print(confusion_matrix(y_test, y_pred3))\n",
    "print(precision_score(y_test, y_pred3))"
   ]
  },
  {
   "cell_type": "code",
   "execution_count": null,
   "id": "759437dd-04cd-4016-ac3b-6d8f9ca28037",
   "metadata": {},
   "outputs": [],
   "source": [
    "from sklearn.linear_model import LogisticRegression\n",
    "from sklearn.svm import SVC\n",
    "from sklearn.naive_bayes import MultinomialNB\n",
    "from sklearn.tree import DecisionTreeClassifier\n",
    "from sklearn.neighbors import KNeighborsClassifier\n",
    "from sklearn.ensemble import RandomForestClassifier\n",
    "from sklearn.ensemble import AdaBoostClassifier\n",
    "from sklearn.ensemble import BaggingClassifier\n",
    "from sklearn.ensemble import ExtraTreesClassifier\n",
    "from sklearn.ensemble import GradientBoostingClassifier\n",
    "from xgboost import XGBClassifier"
   ]
  },
  {
   "cell_type": "code",
   "execution_count": null,
   "id": "2bd957c6-ee7e-4ef4-b493-1fb8e1bb8df3",
   "metadata": {},
   "outputs": [],
   "source": [
    "svc = SVC(kernel='sigmoid', gamma=1.0)\n",
    "knc = KNeighborsClassifier()\n",
    "mnb = MultinomialNB()\n",
    "dtc = DecisionTreeClassifier(max_depth=5)\n",
    "lrc = LogisticRegression(solver='liblinear', penalty='l1')\n",
    "rfc = RandomForestClassifier(n_estimators= 50, random_state=2)\n",
    "abc = AdaBoostClassifier(n_estimators=50, random_state=2)\n",
    "bc = BaggingClassifier(n_estimators=50, random_state=2)\n",
    "etc = ExtraTreesClassifier(n_estimators=50, random_state=2)\n",
    "gbdt = GradientBoostingClassifier(n_estimators=50, random_state=2)\n",
    "xgb = XGBClassifier(n_estimators=50, random_state=2)"
   ]
  },
  {
   "cell_type": "code",
   "execution_count": null,
   "id": "ec2fdce4-4b0e-4a41-a72f-387d65b91bc8",
   "metadata": {},
   "outputs": [],
   "source": [
    "clfs = { \n",
    "    'SVC' : svc,\n",
    "    'KN' : knc,\n",
    "    'NB': mnb,\n",
    "    'DT': dtc,\n",
    "    'LR': lrc,\n",
    "    'RF': rfc,\n",
    "    'AdaBoost': abc,\n",
    "    'BgC': bc,\n",
    "    'ETC': etc,\n",
    "    'GBDT':gbdt,\n",
    "    'xgb':xgb\n",
    "}"
   ]
  },
  {
   "cell_type": "code",
   "execution_count": null,
   "id": "c0aa437c-aaf1-455d-972d-35d5039fb25e",
   "metadata": {},
   "outputs": [],
   "source": [
    "def train_classifier(clf, X_train, y_train, X_test, y_test):\n",
    "  clf.fit(X_train, y_train)\n",
    "  y_pred = clf.predict(X_test)\n",
    "  accuracy = accuracy_score(y_test, y_pred)\n",
    "  precision = precision_score(y_test, y_pred)\n",
    "\n",
    "  return accuracy, precision\n",
    "train_classifier(svc,X_train,y_train,X_test,y_test)"
   ]
  },
  {
   "cell_type": "code",
   "execution_count": null,
   "id": "061eedcc-5ee7-451b-8cd4-4641214821ab",
   "metadata": {},
   "outputs": [],
   "source": [
    "accuracy_scores = []\n",
    "precision_scores = []\n",
    "\n",
    "for name, clf in clfs.items():\n",
    "  current_accuracy, current_precision = train_classifier(clf, X_train, y_train, X_test, y_test)\n",
    "\n",
    "  print(\"For \", name)\n",
    "  print(\"Accuracy - \", current_accuracy)\n",
    "  print(\"Precision - \", current_precision)\n",
    "\n",
    "  accuracy_scores.append(current_accuracy)\n",
    "  precision_scores.append(current_precision)"
   ]
  },
  {
   "cell_type": "code",
   "execution_count": null,
   "id": "cac29d7c-dd88-489f-aeeb-7d0d1d9cd8b1",
   "metadata": {},
   "outputs": [],
   "source": [
    "df_performance = pd.DataFrame({'Algorithm':clfs.keys(), 'Accuracy':accuracy_scores, 'Precision':precision_scores}).sort_values('Precision', ascending=False)\n",
    "print(df_performance)"
   ]
  },
  {
   "cell_type": "code",
   "execution_count": null,
   "id": "f0f5a462-1232-4056-b6be-c4f5dfd339c8",
   "metadata": {},
   "outputs": [],
   "source": [
    "performance_df1= pd.melt(df_performance, id_vars=[\"Algorithm\"])\n",
    "print(performance_df1)"
   ]
  },
  {
   "cell_type": "code",
   "execution_count": null,
   "id": "df8873f2-f5e0-4641-bb8a-51f331ecacd2",
   "metadata": {},
   "outputs": [],
   "source": [
    "sns.catplot(x=\"Algorithm\", y=\"value\", hue=\"variable\", data=performance_df1, kind=\"bar\", height=5)\n",
    "plt.ylim(0.5,1)\n",
    "plt.xticks(rotation='vertical')\n",
    "plt.show()"
   ]
  },
  {
   "cell_type": "markdown",
   "id": "c42e6728-2888-4611-9c66-b0f1e118c459",
   "metadata": {},
   "source": [
    "6- Model Performance Improvement"
   ]
  },
  {
   "cell_type": "code",
   "execution_count": null,
   "id": "f535b35b-f550-460f-a5bd-b222efb39bfb",
   "metadata": {},
   "outputs": [],
   "source": [
    "temp_df = pd.DataFrame({'Algorithm':clfs.keys(), 'Accuracy_max_ft_3000':accuracy_scores, 'Precision_max_ft_3000':precision_scores}).sort_values('Precision_max_ft_3000', ascending=False)"
   ]
  },
  {
   "cell_type": "code",
   "execution_count": null,
   "id": "54c55bff-1c07-48d4-9c08-ba5410a9ec94",
   "metadata": {},
   "outputs": [],
   "source": [
    "performance_df = pd.DataFrame({'Algorithm':clfs.keys(), 'Accuracy':accuracy_scores, 'Precision':precision_scores}).sort_values('Precision', ascending=False)"
   ]
  },
  {
   "cell_type": "code",
   "execution_count": null,
   "id": "4191e096-9034-471b-a7a5-27ea5fd1d123",
   "metadata": {},
   "outputs": [],
   "source": [
    "performance_df.merge(temp_df, on='Algorithm')"
   ]
  },
  {
   "cell_type": "code",
   "execution_count": null,
   "id": "10e0ca61-1ffc-442a-88dc-417213223a9d",
   "metadata": {},
   "outputs": [],
   "source": [
    "performance_df1= pd.melt(performance_df, id_vars=[\"Algorithm\"])\n",
    "print(performance_df1)"
   ]
  },
  {
   "cell_type": "code",
   "execution_count": null,
   "id": "9583925c-1690-451f-bfae-f9e90630af9f",
   "metadata": {},
   "outputs": [],
   "source": [
    "sns.catplot(x=\"Algorithm\", y=\"value\", hue=\"variable\", data=performance_df1, kind=\"bar\", height=5)\n",
    "plt.ylim(0.5,1)\n",
    "plt.xticks(rotation='vertical')\n",
    "plt.show()"
   ]
  },
  {
   "cell_type": "code",
   "execution_count": null,
   "id": "d5512d32-6872-4bd0-8afa-12011e389ae7",
   "metadata": {},
   "outputs": [],
   "source": [
    "temp_df = pd.DataFrame({'Algorithm':clfs.keys(), 'Accuracy_max_ft_3000':accuracy_scores, 'Precision_max_ft_3000':precision_scores}).sort_values('Precision_max_ft_3000', ascending=False)\n",
    "temp_df2 = pd.DataFrame({'Algorithm':clfs.keys(), 'Accuracy_Scaling':accuracy_scores, 'Precision_Scaling':precision_scores}).sort_values('Precision_Scaling', ascending=False)\n",
    "new_df = temp_df.merge(temp_df2, on='Algorithm')\n",
    "scaled_new_df = performance_df.merge(new_df, on='Algorithm')\n",
    "print(scaled_new_df) "
   ]
  },
  {
   "cell_type": "code",
   "execution_count": null,
   "id": "66b29262-14b9-4d32-8b6a-f35bdaa91a70",
   "metadata": {},
   "outputs": [],
   "source": [
    "# voting classifier\n",
    "svc = SVC(kernel='sigmoid', gamma=1.0, probability=True)\n",
    "mnb = MultinomialNB()\n",
    "etc = ExtraTreesClassifier(n_estimators=50, random_state=2)\n",
    "\n",
    "from sklearn.ensemble import VotingClassifier\n",
    "voting = VotingClassifier(estimators=[('svm', svc), ('nb', mnb), ('et', etc)], voting='soft')\n",
    "voting.fit(X_train, y_train)"
   ]
  },
  {
   "cell_type": "code",
   "execution_count": null,
   "id": "2057f56a-071c-4a6e-8565-d71e0dbe9b2e",
   "metadata": {},
   "outputs": [],
   "source": [
    "y_pred = voting.predict(X_test)\n",
    "print(\"Accuracy\", accuracy_score(y_test, y_pred))\n",
    "print(\"Precision\", precision_score(y_test, y_pred))"
   ]
  },
  {
   "cell_type": "code",
   "execution_count": null,
   "id": "1966aed0-fef3-42d2-8648-3b96dc94b8d4",
   "metadata": {},
   "outputs": [],
   "source": [
    "# Applying stacking\n",
    "estimators=[('svm', svc), ('nb', mnb), ('et', etc)]\n",
    "final_estimator=RandomForestClassifier()"
   ]
  },
  {
   "cell_type": "code",
   "execution_count": null,
   "id": "c2a4e63a-8ddb-4beb-a133-f572a92a3eb5",
   "metadata": {},
   "outputs": [],
   "source": [
    "from sklearn.ensemble import StackingClassifier\n",
    "clf = StackingClassifier(estimators=estimators, final_estimator=final_estimator)  \n",
    "clf.fit(X_train, y_train)\n",
    "y_pred = clf.predict(X_test)\n",
    "print(\"Accuracy\", accuracy_score(y_test, y_pred))\n",
    "print(\"Precision\", precision_score(y_test, y_pred))"
   ]
  },
  {
   "cell_type": "code",
   "execution_count": null,
   "id": "35272086-a553-4519-8a3b-041d3a07e466",
   "metadata": {},
   "outputs": [],
   "source": [
    "import pickle\n",
    "pickle.dump(tfidf,open('vectorizer.pkl','wb'))\n",
    "pickle.dump(mnb,open('model.pkl','wb'))"
   ]
  },
  {
   "cell_type": "code",
   "execution_count": null,
   "id": "1388c3f3-0d31-4a4a-a9b9-788cf01e93a7",
   "metadata": {},
   "outputs": [],
   "source": [
    "import pickle\n",
    "import string\n",
    "import nltk\n",
    "from nltk.corpus import stopwords\n",
    "from nltk.stem.porter import PorterStemmer\n",
    "from sklearn.feature_extraction.text import TfidfVectorizer\n",
    "from sklearn.naive_bayes import MultinomialNB\n",
    "from sklearn.model_selection import train_test_split\n",
    "\n",
    "# تحميل الموارد\n",
    "nltk.download('punkt')\n",
    "nltk.download('stopwords')\n",
    "\n",
    "ps = PorterStemmer()\n",
    "\n",
    "def transform_text(text):\n",
    "   \n",
    "    text = text.lower()\n",
    "  \n",
    "    text = nltk.word_tokenize(text)\n",
    "    \n",
    "    y = [i for i in text if i.isalnum()]\n",
    "    \n",
    "    y = [i for i in y if i not in stopwords.words('english') and i not in string.punctuation]\n",
    " \n",
    "    y = [ps.stem(i) for i in y]\n",
    "    \n",
    "    return \" \".join(y)\n",
    "\n",
    "data = df['transformed_text']\n",
    "labels = df['target']  # 1 for spam, 0 for not spam\n",
    "\n",
    "tfidf = TfidfVectorizer()\n",
    "X = tfidf.fit_transform(data)  \n",
    "y = labels\n",
    "\n",
    "\n",
    "X_train, X_test, y_train, y_test = train_test_split(X, y, test_size=0.2, random_state=42)\n",
    "\n",
    "\n",
    "model = MultinomialNB()\n",
    "model.fit(X_train, y_train)  \n",
    "\n",
    "pickle.dump(tfidf, open('vectorizer.pkl', 'wb'))\n",
    "pickle.dump(model, open('model.pkl', 'wb'))\n",
    "\n",
    "\n",
    "input_sms = input(\"Enter the message: \")\n",
    "\n",
    "transformed_sms = transform_text(input_sms)\n",
    "\n",
    "vector_input = tfidf.transform([transformed_sms])\n",
    "\n",
    "result = model.predict(vector_input)[0]\n",
    "\n",
    "if result == 1:\n",
    "    print(\"Spam\")\n",
    "else:\n",
    "    print(\"Not Spam\")"
   ]
  },
  {
   "cell_type": "code",
   "execution_count": null,
   "id": "ba55a597-e4c5-4765-8ed8-46f3ff35eec2",
   "metadata": {},
   "outputs": [],
   "source": []
  }
 ],
 "metadata": {
  "kernelspec": {
   "display_name": "Python 3 (ipykernel)",
   "language": "python",
   "name": "python3"
  },
  "language_info": {
   "codemirror_mode": {
    "name": "ipython",
    "version": 3
   },
   "file_extension": ".py",
   "mimetype": "text/x-python",
   "name": "python",
   "nbconvert_exporter": "python",
   "pygments_lexer": "ipython3",
   "version": "3.12.4"
  }
 },
 "nbformat": 4,
 "nbformat_minor": 5
}
